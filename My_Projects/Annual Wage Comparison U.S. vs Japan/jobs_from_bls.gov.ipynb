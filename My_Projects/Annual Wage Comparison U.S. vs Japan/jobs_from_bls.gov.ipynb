{
 "cells": [
  {
   "cell_type": "code",
   "execution_count": 1,
   "id": "bc9b1aae",
   "metadata": {},
   "outputs": [],
   "source": [
    "from bs4 import BeautifulSoup\n",
    "import requests\n",
    "import time\n",
    "import random\n",
    "import pandas as pd"
   ]
  },
  {
   "cell_type": "code",
   "execution_count": 2,
   "id": "ac757815",
   "metadata": {},
   "outputs": [],
   "source": [
    "URL = \"https://www.bls.gov/ooh/\"\n",
    "r = requests.get(URL)\n",
    "time.sleep(random.randint(3,5))\n",
    "soup = BeautifulSoup(r.content,\"html.parser\")"
   ]
  },
  {
   "cell_type": "code",
   "execution_count": 3,
   "id": "0f479b5f",
   "metadata": {},
   "outputs": [],
   "source": [
    "# Get the links of each occupation group\n",
    "occupations = soup.find(\"ul\", class_=\"ooh-groups-col\")\n",
    "get_a = occupations.find_all(\"a\")  \n",
    "links = []\n",
    "for i in range(len(get_a)):\n",
    "    link = get_a[i].get(\"href\")\n",
    "    links.append(\"https://www.bls.gov\" + link)"
   ]
  },
  {
   "cell_type": "code",
   "execution_count": 4,
   "id": "e83eadcb",
   "metadata": {},
   "outputs": [],
   "source": [
    "# Visit each occupation group to extract occupation titles and median pay\n",
    "occupation_titles = []\n",
    "median_pay =[]\n",
    "education = []\n",
    "titles =[]\n",
    "for i in range(len(links)):\n",
    "    link = links[i]\n",
    "    \n",
    "    r = requests.get(link)\n",
    "    time.sleep(random.randint(3,5))\n",
    "    soup = BeautifulSoup(r.content,\"html.parser\")\n",
    "    \n",
    "    contents = soup.find(\"tbody\") \n",
    "    occupation = contents.find_all(\"a\")\n",
    "    for i in range(len(occupation)):\n",
    "        if  str(occupation[i].string).strip() != \"See How to Become One\":\n",
    "            # avoid the <a>tag in the education column\n",
    "            titles.append(str(occupation[i].string).strip())\n",
    "        else:\n",
    "            pass\n",
    "        \n",
    "    get_span = contents.find_all('span')\n",
    "    \n",
    "    for i in range(len(get_span)):\n",
    "        if i % 2 !=0:\n",
    "            median_pay.append(get_span[i].string.strip())\n",
    "        elif i % 2 == 0:\n",
    "            education.append(get_span[i].string.strip())\n",
    "        else:\n",
    "            pass\n",
    "            \n",
    "occupation_titles = [x.lower() for x in titles if x != \"None\"]\n",
    "occupation_titles = list(dict.fromkeys([x.title() for x in occupation_titles]))\n",
    "# remove duplicates from the list but maintain the order\n"
   ]
  },
  {
   "cell_type": "code",
   "execution_count": 6,
   "id": "cdc1f893",
   "metadata": {},
   "outputs": [],
   "source": [
    "# Turn the lists into dictionary format\n",
    "salary_us = {\n",
    "    'occupation_titles' : occupation_titles,\n",
    "    'median_pay' : median_pay,\n",
    "    'education' : education\n",
    "}\n",
    "\n",
    "# Check the length of each list\n",
    "#length_occu = len(salary_us['occupation_titles'])\n",
    "#length_pay = len(salary_us['median_pay'])\n",
    "#length_edu = len(salary_us['education'])\n",
    "#length_occu, length_pay, length_edu"
   ]
  },
  {
   "cell_type": "code",
   "execution_count": 7,
   "id": "101d05d3",
   "metadata": {
    "scrolled": false
   },
   "outputs": [],
   "source": [
    "# Turn the dictionary into data frame\n",
    "df = pd.DataFrame(salary_us)"
   ]
  },
  {
   "cell_type": "code",
   "execution_count": 8,
   "id": "40abd693",
   "metadata": {},
   "outputs": [],
   "source": [
    "# Output as a cvs file\n",
    "df.to_csv(\"salary_us.csv\", index=False,encoding=\"utf-8\")"
   ]
  }
 ],
 "metadata": {
  "kernelspec": {
   "display_name": "Python 3",
   "language": "python",
   "name": "python3"
  },
  "language_info": {
   "codemirror_mode": {
    "name": "ipython",
    "version": 3
   },
   "file_extension": ".py",
   "mimetype": "text/x-python",
   "name": "python",
   "nbconvert_exporter": "python",
   "pygments_lexer": "ipython3",
   "version": "3.8.8"
  }
 },
 "nbformat": 4,
 "nbformat_minor": 5
}
